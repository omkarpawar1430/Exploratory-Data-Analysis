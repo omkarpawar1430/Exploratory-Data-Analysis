{
 "cells": [
  {
   "attachments": {},
   "cell_type": "markdown",
   "metadata": {},
   "source": [
    "# Automated EDA Libraries | dtale, pandas profiling, sweetviz & autoviz"
   ]
  },
  {
   "cell_type": "markdown",
   "metadata": {},
   "source": [
    "Python libraries such as dtale, pandas profiling, sweetviz and autoviz can be used to automate Exploratory Data Analysis (EDA) tasks such as cleaning the data, handling missing values, handling outliers and imbalances."
   ]
  },
  {
   "attachments": {},
   "cell_type": "markdown",
   "metadata": {},
   "source": [
    "# sweetviz "
   ]
  },
  {
   "attachments": {},
   "cell_type": "markdown",
   "metadata": {},
   "source": [
    "https://pypi.org/project/sweetviz/"
   ]
  },
  {
   "cell_type": "code",
   "execution_count": 3,
   "metadata": {},
   "outputs": [],
   "source": [
    "import pandas as pd "
   ]
  },
  {
   "cell_type": "code",
   "execution_count": 5,
   "metadata": {},
   "outputs": [
    {
     "ename": "AttributeError",
     "evalue": "'DataFrame' object has no attribute 'iteritems'",
     "output_type": "error",
     "traceback": [
      "\u001b[0;31m---------------------------------------------------------------------------\u001b[0m",
      "\u001b[0;31mAttributeError\u001b[0m                            Traceback (most recent call last)",
      "Cell \u001b[0;32mIn[5], line 3\u001b[0m\n\u001b[1;32m      1\u001b[0m \u001b[39mimport\u001b[39;00m \u001b[39msweetviz\u001b[39;00m \u001b[39mas\u001b[39;00m \u001b[39msv\u001b[39;00m\n\u001b[1;32m      2\u001b[0m my_df \u001b[39m=\u001b[39m pd\u001b[39m.\u001b[39mread_csv(\u001b[39m'\u001b[39m\u001b[39m/home/omkar/Omkar Pawar/Data Science/Exploratory Data Analysis/Assets/Raw Data Sets/titanic.csv\u001b[39m\u001b[39m'\u001b[39m)\n\u001b[0;32m----> 3\u001b[0m my_report \u001b[39m=\u001b[39m sv\u001b[39m.\u001b[39;49manalyze(my_df)\n\u001b[1;32m      4\u001b[0m my_report\u001b[39m.\u001b[39mshow_html() \u001b[39m# Default arguments will generate to \"SWEETVIZ_REPORT.html\"\u001b[39;00m\n",
      "File \u001b[0;32m~/.local/lib/python3.10/site-packages/sweetviz/sv_public.py:12\u001b[0m, in \u001b[0;36manalyze\u001b[0;34m(source, target_feat, feat_cfg, pairwise_analysis)\u001b[0m\n\u001b[1;32m      8\u001b[0m \u001b[39mdef\u001b[39;00m \u001b[39manalyze\u001b[39m(source: Union[pd\u001b[39m.\u001b[39mDataFrame, Tuple[pd\u001b[39m.\u001b[39mDataFrame, \u001b[39mstr\u001b[39m]],\n\u001b[1;32m      9\u001b[0m             target_feat: \u001b[39mstr\u001b[39m \u001b[39m=\u001b[39m \u001b[39mNone\u001b[39;00m,\n\u001b[1;32m     10\u001b[0m             feat_cfg: FeatureConfig \u001b[39m=\u001b[39m \u001b[39mNone\u001b[39;00m,\n\u001b[1;32m     11\u001b[0m             pairwise_analysis: \u001b[39mstr\u001b[39m \u001b[39m=\u001b[39m \u001b[39m'\u001b[39m\u001b[39mauto\u001b[39m\u001b[39m'\u001b[39m):\n\u001b[0;32m---> 12\u001b[0m     report \u001b[39m=\u001b[39m sweetviz\u001b[39m.\u001b[39;49mDataframeReport(source, target_feat, \u001b[39mNone\u001b[39;49;00m,\n\u001b[1;32m     13\u001b[0m                                       pairwise_analysis, feat_cfg)\n\u001b[1;32m     14\u001b[0m     \u001b[39mreturn\u001b[39;00m report\n",
      "File \u001b[0;32m~/.local/lib/python3.10/site-packages/sweetviz/dataframe_report.py:74\u001b[0m, in \u001b[0;36mDataframeReport.__init__\u001b[0;34m(self, source, target_feature_name, compare, pairwise_analysis, fc)\u001b[0m\n\u001b[1;32m     71\u001b[0m     \u001b[39mif\u001b[39;00m target_feature_name \u001b[39m==\u001b[39m \u001b[39m'\u001b[39m\u001b[39mindex\u001b[39m\u001b[39m'\u001b[39m:\n\u001b[1;32m     72\u001b[0m         target_feature_name \u001b[39m=\u001b[39m \u001b[39m'\u001b[39m\u001b[39mdf_index\u001b[39m\u001b[39m'\u001b[39m\n\u001b[0;32m---> 74\u001b[0m all_source_names \u001b[39m=\u001b[39m [cur_name \u001b[39mfor\u001b[39;00m cur_name, cur_series \u001b[39min\u001b[39;00m source_df\u001b[39m.\u001b[39;49miteritems()]\n\u001b[1;32m     75\u001b[0m \u001b[39mif\u001b[39;00m compare \u001b[39mis\u001b[39;00m \u001b[39mNone\u001b[39;00m:\n\u001b[1;32m     76\u001b[0m     compare_df \u001b[39m=\u001b[39m \u001b[39mNone\u001b[39;00m\n",
      "File \u001b[0;32m~/.local/lib/python3.10/site-packages/pandas/core/generic.py:5989\u001b[0m, in \u001b[0;36mNDFrame.__getattr__\u001b[0;34m(self, name)\u001b[0m\n\u001b[1;32m   5982\u001b[0m \u001b[39mif\u001b[39;00m (\n\u001b[1;32m   5983\u001b[0m     name \u001b[39mnot\u001b[39;00m \u001b[39min\u001b[39;00m \u001b[39mself\u001b[39m\u001b[39m.\u001b[39m_internal_names_set\n\u001b[1;32m   5984\u001b[0m     \u001b[39mand\u001b[39;00m name \u001b[39mnot\u001b[39;00m \u001b[39min\u001b[39;00m \u001b[39mself\u001b[39m\u001b[39m.\u001b[39m_metadata\n\u001b[1;32m   5985\u001b[0m     \u001b[39mand\u001b[39;00m name \u001b[39mnot\u001b[39;00m \u001b[39min\u001b[39;00m \u001b[39mself\u001b[39m\u001b[39m.\u001b[39m_accessors\n\u001b[1;32m   5986\u001b[0m     \u001b[39mand\u001b[39;00m \u001b[39mself\u001b[39m\u001b[39m.\u001b[39m_info_axis\u001b[39m.\u001b[39m_can_hold_identifiers_and_holds_name(name)\n\u001b[1;32m   5987\u001b[0m ):\n\u001b[1;32m   5988\u001b[0m     \u001b[39mreturn\u001b[39;00m \u001b[39mself\u001b[39m[name]\n\u001b[0;32m-> 5989\u001b[0m \u001b[39mreturn\u001b[39;00m \u001b[39mobject\u001b[39;49m\u001b[39m.\u001b[39;49m\u001b[39m__getattribute__\u001b[39;49m(\u001b[39mself\u001b[39;49m, name)\n",
      "\u001b[0;31mAttributeError\u001b[0m: 'DataFrame' object has no attribute 'iteritems'"
     ]
    }
   ],
   "source": [
    "import sweetviz as sv\n",
    "my_df = pd.read_csv('/home/omkar/Omkar Pawar/Data Science/Exploratory Data Analysis/Assets/Raw Data Sets/titanic.csv')\n",
    "my_report = sv.analyze(my_df)\n",
    "my_report.show_html() # Default arguments will generate to \"SWEETVIZ_REPORT.html\"\n"
   ]
  },
  {
   "cell_type": "code",
   "execution_count": null,
   "metadata": {},
   "outputs": [],
   "source": []
  }
 ],
 "metadata": {
  "kernelspec": {
   "display_name": "Python 3",
   "language": "python",
   "name": "python3"
  },
  "language_info": {
   "codemirror_mode": {
    "name": "ipython",
    "version": 3
   },
   "file_extension": ".py",
   "mimetype": "text/x-python",
   "name": "python",
   "nbconvert_exporter": "python",
   "pygments_lexer": "ipython3",
   "version": "3.10.6"
  },
  "orig_nbformat": 4
 },
 "nbformat": 4,
 "nbformat_minor": 2
}
