{
 "cells": [
  {
   "attachments": {},
   "cell_type": "markdown",
   "metadata": {},
   "source": [
    "# Statistical Analysis | EDA -  Dataset"
   ]
  },
  {
   "cell_type": "code",
   "execution_count": 2,
   "metadata": {},
   "outputs": [],
   "source": [
    "# Libraries Needed:\n",
    "import pandas as pd\n",
    "import seaborn as sns\n",
    "from scipy import stats\n",
    "\n",
    "\n",
    "# Extra Lib to ingnore some warnings: \n",
    "import warnings\n",
    "warnings.filterwarnings('ignore')"
   ]
  },
  {
   "cell_type": "code",
   "execution_count": 3,
   "metadata": {},
   "outputs": [
    {
     "data": {
      "text/html": [
       "<div>\n",
       "<style scoped>\n",
       "    .dataframe tbody tr th:only-of-type {\n",
       "        vertical-align: middle;\n",
       "    }\n",
       "\n",
       "    .dataframe tbody tr th {\n",
       "        vertical-align: top;\n",
       "    }\n",
       "\n",
       "    .dataframe thead th {\n",
       "        text-align: right;\n",
       "    }\n",
       "</style>\n",
       "<table border=\"1\" class=\"dataframe\">\n",
       "  <thead>\n",
       "    <tr style=\"text-align: right;\">\n",
       "      <th></th>\n",
       "      <th>fixed acidity</th>\n",
       "      <th>volatile acidity</th>\n",
       "      <th>citric acid</th>\n",
       "      <th>residual sugar</th>\n",
       "      <th>chlorides</th>\n",
       "      <th>free sulfur dioxide</th>\n",
       "      <th>total sulfur dioxide</th>\n",
       "      <th>density</th>\n",
       "      <th>pH</th>\n",
       "      <th>sulphates</th>\n",
       "      <th>alcohol</th>\n",
       "      <th>quality</th>\n",
       "    </tr>\n",
       "  </thead>\n",
       "  <tbody>\n",
       "    <tr>\n",
       "      <th>0</th>\n",
       "      <td>7.4</td>\n",
       "      <td>0.700</td>\n",
       "      <td>0.00</td>\n",
       "      <td>1.9</td>\n",
       "      <td>0.076</td>\n",
       "      <td>11.0</td>\n",
       "      <td>34.0</td>\n",
       "      <td>0.99780</td>\n",
       "      <td>3.51</td>\n",
       "      <td>0.56</td>\n",
       "      <td>9.4</td>\n",
       "      <td>5</td>\n",
       "    </tr>\n",
       "    <tr>\n",
       "      <th>1</th>\n",
       "      <td>7.8</td>\n",
       "      <td>0.880</td>\n",
       "      <td>0.00</td>\n",
       "      <td>2.6</td>\n",
       "      <td>0.098</td>\n",
       "      <td>25.0</td>\n",
       "      <td>67.0</td>\n",
       "      <td>0.99680</td>\n",
       "      <td>3.20</td>\n",
       "      <td>0.68</td>\n",
       "      <td>9.8</td>\n",
       "      <td>5</td>\n",
       "    </tr>\n",
       "    <tr>\n",
       "      <th>2</th>\n",
       "      <td>7.8</td>\n",
       "      <td>0.760</td>\n",
       "      <td>0.04</td>\n",
       "      <td>2.3</td>\n",
       "      <td>0.092</td>\n",
       "      <td>15.0</td>\n",
       "      <td>54.0</td>\n",
       "      <td>0.99700</td>\n",
       "      <td>3.26</td>\n",
       "      <td>0.65</td>\n",
       "      <td>9.8</td>\n",
       "      <td>5</td>\n",
       "    </tr>\n",
       "    <tr>\n",
       "      <th>3</th>\n",
       "      <td>11.2</td>\n",
       "      <td>0.280</td>\n",
       "      <td>0.56</td>\n",
       "      <td>1.9</td>\n",
       "      <td>0.075</td>\n",
       "      <td>17.0</td>\n",
       "      <td>60.0</td>\n",
       "      <td>0.99800</td>\n",
       "      <td>3.16</td>\n",
       "      <td>0.58</td>\n",
       "      <td>9.8</td>\n",
       "      <td>6</td>\n",
       "    </tr>\n",
       "    <tr>\n",
       "      <th>4</th>\n",
       "      <td>7.4</td>\n",
       "      <td>0.700</td>\n",
       "      <td>0.00</td>\n",
       "      <td>1.9</td>\n",
       "      <td>0.076</td>\n",
       "      <td>11.0</td>\n",
       "      <td>34.0</td>\n",
       "      <td>0.99780</td>\n",
       "      <td>3.51</td>\n",
       "      <td>0.56</td>\n",
       "      <td>9.4</td>\n",
       "      <td>5</td>\n",
       "    </tr>\n",
       "    <tr>\n",
       "      <th>...</th>\n",
       "      <td>...</td>\n",
       "      <td>...</td>\n",
       "      <td>...</td>\n",
       "      <td>...</td>\n",
       "      <td>...</td>\n",
       "      <td>...</td>\n",
       "      <td>...</td>\n",
       "      <td>...</td>\n",
       "      <td>...</td>\n",
       "      <td>...</td>\n",
       "      <td>...</td>\n",
       "      <td>...</td>\n",
       "    </tr>\n",
       "    <tr>\n",
       "      <th>1594</th>\n",
       "      <td>6.2</td>\n",
       "      <td>0.600</td>\n",
       "      <td>0.08</td>\n",
       "      <td>2.0</td>\n",
       "      <td>0.090</td>\n",
       "      <td>32.0</td>\n",
       "      <td>44.0</td>\n",
       "      <td>0.99490</td>\n",
       "      <td>3.45</td>\n",
       "      <td>0.58</td>\n",
       "      <td>10.5</td>\n",
       "      <td>5</td>\n",
       "    </tr>\n",
       "    <tr>\n",
       "      <th>1595</th>\n",
       "      <td>5.9</td>\n",
       "      <td>0.550</td>\n",
       "      <td>0.10</td>\n",
       "      <td>2.2</td>\n",
       "      <td>0.062</td>\n",
       "      <td>39.0</td>\n",
       "      <td>51.0</td>\n",
       "      <td>0.99512</td>\n",
       "      <td>3.52</td>\n",
       "      <td>0.76</td>\n",
       "      <td>11.2</td>\n",
       "      <td>6</td>\n",
       "    </tr>\n",
       "    <tr>\n",
       "      <th>1596</th>\n",
       "      <td>6.3</td>\n",
       "      <td>0.510</td>\n",
       "      <td>0.13</td>\n",
       "      <td>2.3</td>\n",
       "      <td>0.076</td>\n",
       "      <td>29.0</td>\n",
       "      <td>40.0</td>\n",
       "      <td>0.99574</td>\n",
       "      <td>3.42</td>\n",
       "      <td>0.75</td>\n",
       "      <td>11.0</td>\n",
       "      <td>6</td>\n",
       "    </tr>\n",
       "    <tr>\n",
       "      <th>1597</th>\n",
       "      <td>5.9</td>\n",
       "      <td>0.645</td>\n",
       "      <td>0.12</td>\n",
       "      <td>2.0</td>\n",
       "      <td>0.075</td>\n",
       "      <td>32.0</td>\n",
       "      <td>44.0</td>\n",
       "      <td>0.99547</td>\n",
       "      <td>3.57</td>\n",
       "      <td>0.71</td>\n",
       "      <td>10.2</td>\n",
       "      <td>5</td>\n",
       "    </tr>\n",
       "    <tr>\n",
       "      <th>1598</th>\n",
       "      <td>6.0</td>\n",
       "      <td>0.310</td>\n",
       "      <td>0.47</td>\n",
       "      <td>3.6</td>\n",
       "      <td>0.067</td>\n",
       "      <td>18.0</td>\n",
       "      <td>42.0</td>\n",
       "      <td>0.99549</td>\n",
       "      <td>3.39</td>\n",
       "      <td>0.66</td>\n",
       "      <td>11.0</td>\n",
       "      <td>6</td>\n",
       "    </tr>\n",
       "  </tbody>\n",
       "</table>\n",
       "<p>1599 rows × 12 columns</p>\n",
       "</div>"
      ],
      "text/plain": [
       "      fixed acidity  volatile acidity  citric acid  residual sugar  chlorides   \n",
       "0               7.4             0.700         0.00             1.9      0.076  \\\n",
       "1               7.8             0.880         0.00             2.6      0.098   \n",
       "2               7.8             0.760         0.04             2.3      0.092   \n",
       "3              11.2             0.280         0.56             1.9      0.075   \n",
       "4               7.4             0.700         0.00             1.9      0.076   \n",
       "...             ...               ...          ...             ...        ...   \n",
       "1594            6.2             0.600         0.08             2.0      0.090   \n",
       "1595            5.9             0.550         0.10             2.2      0.062   \n",
       "1596            6.3             0.510         0.13             2.3      0.076   \n",
       "1597            5.9             0.645         0.12             2.0      0.075   \n",
       "1598            6.0             0.310         0.47             3.6      0.067   \n",
       "\n",
       "      free sulfur dioxide  total sulfur dioxide  density    pH  sulphates   \n",
       "0                    11.0                  34.0  0.99780  3.51       0.56  \\\n",
       "1                    25.0                  67.0  0.99680  3.20       0.68   \n",
       "2                    15.0                  54.0  0.99700  3.26       0.65   \n",
       "3                    17.0                  60.0  0.99800  3.16       0.58   \n",
       "4                    11.0                  34.0  0.99780  3.51       0.56   \n",
       "...                   ...                   ...      ...   ...        ...   \n",
       "1594                 32.0                  44.0  0.99490  3.45       0.58   \n",
       "1595                 39.0                  51.0  0.99512  3.52       0.76   \n",
       "1596                 29.0                  40.0  0.99574  3.42       0.75   \n",
       "1597                 32.0                  44.0  0.99547  3.57       0.71   \n",
       "1598                 18.0                  42.0  0.99549  3.39       0.66   \n",
       "\n",
       "      alcohol  quality  \n",
       "0         9.4        5  \n",
       "1         9.8        5  \n",
       "2         9.8        5  \n",
       "3         9.8        6  \n",
       "4         9.4        5  \n",
       "...       ...      ...  \n",
       "1594     10.5        5  \n",
       "1595     11.2        6  \n",
       "1596     11.0        6  \n",
       "1597     10.2        5  \n",
       "1598     11.0        6  \n",
       "\n",
       "[1599 rows x 12 columns]"
      ]
     },
     "execution_count": 3,
     "metadata": {},
     "output_type": "execute_result"
    }
   ],
   "source": [
    "path = '/home/omkar/Omkar Pawar/Data Science/Exploratory Data Analysis/Assets/Raw Data Sets/winequality-red.csv'\n",
    "\n",
    "df = pd.read_csv(path, sep=';') # by default values sep= ',' | CSV = comma separated values\n",
    "df"
   ]
  },
  {
   "cell_type": "code",
   "execution_count": 4,
   "metadata": {},
   "outputs": [
    {
     "data": {
      "text/plain": [
       "0       0.700\n",
       "1       0.880\n",
       "2       0.760\n",
       "3       0.280\n",
       "4       0.700\n",
       "        ...  \n",
       "1594    0.600\n",
       "1595    0.550\n",
       "1596    0.510\n",
       "1597    0.645\n",
       "1598    0.310\n",
       "Name: volatile acidity, Length: 1599, dtype: float64"
      ]
     },
     "execution_count": 4,
     "metadata": {},
     "output_type": "execute_result"
    }
   ],
   "source": [
    "df['volatile acidity']"
   ]
  },
  {
   "cell_type": "code",
   "execution_count": 5,
   "metadata": {},
   "outputs": [
    {
     "data": {
      "text/plain": [
       "<Axes: xlabel='volatile acidity', ylabel='Density'>"
      ]
     },
     "execution_count": 5,
     "metadata": {},
     "output_type": "execute_result"
    },
    {
     "data": {
      "image/png": "[encoded data removed]",
      "text/plain": [
       "<Figure size 640x480 with 1 Axes>"
      ]
     },
     "metadata": {},
     "output_type": "display_data"
    }
   ],
   "source": [
    "sns.distplot(df['volatile acidity'], kde=True, color= 'green')"
   ]
  },
  {
   "cell_type": "code",
   "execution_count": 6,
   "metadata": {},
   "outputs": [
    {
     "data": {
      "text/plain": [
       "<Axes: xlabel='citric acid', ylabel='Density'>"
      ]
     },
     "execution_count": 6,
     "metadata": {},
     "output_type": "execute_result"
    },
    {
     "data": {
      "image/png": "[encoded data removed]",
      "text/plain": [
       "<Figure size 640x480 with 1 Axes>"
      ]
     },
     "metadata": {},
     "output_type": "display_data"
    }
   ],
   "source": [
    "sns.distplot(df['citric acid'], color='red')"
   ]
  },
  {
   "attachments": {},
   "cell_type": "markdown",
   "metadata": {},
   "source": [
    "### Shapiro Wilk Test:"
   ]
  },
  {
   "attachments": {},
   "cell_type": "markdown",
   "metadata": {},
   "source": [
    "https://docs.scipy.org/doc/scipy/reference/generated/scipy.stats.shapiro.html"
   ]
  },
  {
   "attachments": {},
   "cell_type": "markdown",
   "metadata": {},
   "source": [
    "The Shapiro-Wilk test tests the null hypothesis that the data was drawn from a normal distribution.\n",
    "\n",
    "The chance of rejecting the null hypothesis when it is true is close to 5% regardless of sample size."
   ]
  },
  {
   "attachments": {},
   "cell_type": "markdown",
   "metadata": {},
   "source": [
    "in short if `pvalue > 0.05` then we fail to reject null hypothesis.\n",
    "\n",
    "means we accept the null hypothesis.\n",
    "\n",
    "Hence Distribution is normal with `pvalue > 0.05`"
   ]
  },
  {
   "cell_type": "code",
   "execution_count": 7,
   "metadata": {},
   "outputs": [
    {
     "data": {
      "text/plain": [
       "ShapiroResult(statistic=0.9743338823318481, pvalue=2.686385373947307e-16)"
      ]
     },
     "execution_count": 7,
     "metadata": {},
     "output_type": "execute_result"
    }
   ],
   "source": [
    "stats.shapiro(df['volatile acidity']) # Normal Distribution"
   ]
  },
  {
   "cell_type": "code",
   "execution_count": 8,
   "metadata": {},
   "outputs": [
    {
     "data": {
      "text/plain": [
       "ShapiroResult(statistic=0.955294668674469, pvalue=1.0233944777578548e-21)"
      ]
     },
     "execution_count": 8,
     "metadata": {},
     "output_type": "execute_result"
    }
   ],
   "source": [
    "stats.shapiro(df['citric acid'])"
   ]
  },
  {
   "cell_type": "code",
   "execution_count": 9,
   "metadata": {},
   "outputs": [
    {
     "data": {
      "text/plain": [
       "array([ 5.15936501e-01,  1.29448222e+00, -6.49719181e-01,  2.80989026e+00,\n",
       "        1.07557769e+00,  8.03640323e-01, -8.59229658e-01,  8.58222008e-01,\n",
       "       -2.89063833e-01, -1.08243797e-01, -5.07932403e-02,  1.57872985e+00,\n",
       "        1.84905669e+00,  1.31959291e+00,  2.35983630e+00,  3.53585538e-01,\n",
       "       -4.64845180e-01, -2.17625611e-01,  6.69275889e-01,  7.44172034e-01,\n",
       "        6.67599910e-01, -1.62585089e-01, -2.05305959e+00,  3.36863997e-01,\n",
       "        6.40416942e-01, -2.10716751e-01, -1.34601049e+00, -9.14158015e-01,\n",
       "       -2.46902184e+00, -1.20452713e-01,  7.48755445e-02, -1.60243397e+00,\n",
       "       -3.38108396e-01,  9.69119863e-01, -7.77377693e-01, -5.56524247e-01,\n",
       "        1.46594649e-01, -1.26344737e+00,  3.09355145e-01,  1.35711584e+00,\n",
       "        1.64211134e+00, -7.03362117e-01,  3.57662244e-01, -4.23938739e-01,\n",
       "        4.63986499e-01, -1.11759169e+00,  2.08119667e-01,  2.09463922e-01,\n",
       "        1.08275278e+00, -5.60172167e-01, -4.63950781e-01, -4.32840951e-01,\n",
       "       -2.85064961e-01,  9.01147052e-02, -7.38624019e-01,  6.57724449e-01,\n",
       "        6.26445402e-01,  1.41897346e+00, -1.99901812e-01, -8.78305066e-01,\n",
       "        7.74133273e-01, -2.04380966e+00, -2.51669623e+00,  1.07235213e+00,\n",
       "       -2.13546493e-02, -1.40082949e+00, -9.47759475e-01, -1.35500265e+00,\n",
       "       -1.81259595e+00,  2.84266176e-01,  1.62417082e+00,  4.10808706e-01,\n",
       "        1.44376676e+00,  4.31552190e-01,  1.29912321e+00,  5.97852407e-01,\n",
       "        1.32663849e+00,  7.63770855e-01, -4.73839554e-02,  2.10099742e-01,\n",
       "       -3.36712699e-01,  2.06947351e+00, -9.85238402e-01,  1.07365052e-01,\n",
       "        1.45167088e-01, -1.75418210e+00, -9.45791627e-01, -8.00184216e-01,\n",
       "        3.36349215e-01, -6.71312774e-01, -1.06289761e-01,  4.24810652e-03,\n",
       "        2.09287856e-01,  1.23122659e+00, -8.78821483e-01, -1.61538754e+00,\n",
       "       -5.09883221e-01, -1.91339344e+00,  1.00580845e+00,  1.18615119e-01,\n",
       "        6.08693446e-01, -2.58346423e-01,  2.79783495e-01, -2.95706247e-01,\n",
       "       -1.67340747e+00, -1.56637711e+00,  8.26560600e-01,  1.20448738e-01,\n",
       "       -1.13317491e+00, -7.61432579e-01, -1.11086157e+00,  8.00579993e-01,\n",
       "        1.64279708e+00, -9.07416528e-01,  2.03120378e+00, -2.33099620e+00,\n",
       "       -1.15276152e-01,  3.62320438e-01, -3.36036900e-01, -3.34865727e-01,\n",
       "        4.22302371e-02, -3.45459519e-01, -2.56155059e-01,  3.90973882e-01,\n",
       "       -1.02110092e+00,  4.69738721e-01,  1.35379085e+00, -3.32106104e-01,\n",
       "        1.97497722e+00,  1.70202187e+00, -8.79555245e-01, -1.57534390e+00,\n",
       "       -9.18113466e-01,  4.03866120e-01,  1.52931898e-01, -2.09349429e+00,\n",
       "       -2.75763902e-02, -3.56254997e-01,  1.12989813e+00,  1.82366876e+00,\n",
       "        1.04418336e+00, -1.70732823e+00, -1.56451269e+00,  2.55668312e-01,\n",
       "       -2.89024889e-01, -1.34821207e-01,  3.82564990e-01,  2.35939780e+00,\n",
       "       -1.40253420e+00, -8.60021856e-01,  2.61622673e-01,  1.47746435e+00,\n",
       "       -4.57790782e-01, -1.54616626e-01, -3.90118729e-02,  7.61203197e-01,\n",
       "        2.52067659e-01, -1.62194790e-02, -2.03565791e+00, -1.14979399e+00,\n",
       "        3.25577173e-01,  1.21802008e-01, -1.54370807e+00, -1.16014264e+00,\n",
       "        3.44642629e-01, -1.62512876e-01,  1.58982734e+00,  6.74082519e-01,\n",
       "        4.63398761e-01, -5.85820853e-01, -1.18659815e+00, -4.64891844e-01,\n",
       "       -3.37493810e-01,  2.41125379e+00, -2.50673043e+00, -3.41210606e-01,\n",
       "        1.22637552e-01,  2.64513475e-01, -1.20588317e+00,  1.50678011e+00,\n",
       "        2.21692985e+00,  1.79070214e+00, -1.86718844e-01,  1.59785714e+00,\n",
       "        1.97457120e-01, -1.44040165e+00, -1.46822611e+00,  1.31534300e+00,\n",
       "        4.89461521e-01, -3.67284121e-01,  1.42271685e-01, -1.75351521e+00,\n",
       "        1.23179884e+00,  1.29539899e+00, -1.34626445e+00,  1.02574665e+00,\n",
       "       -6.31715373e-01,  2.11439370e-01,  1.69468498e+00,  4.96595000e-01,\n",
       "        2.49490501e-02, -1.91335907e+00, -8.33760107e-01, -1.05284567e+00,\n",
       "        2.91185530e-01,  1.50673661e+00, -1.22879679e-01, -9.08997875e-01,\n",
       "       -9.98151635e-03, -7.09774696e-01,  3.34073461e-01, -6.63930154e-01,\n",
       "       -2.33934480e-01, -6.79471211e-01,  6.36753542e-01,  1.32212962e+00,\n",
       "       -2.04478409e-01, -4.35890569e-01, -2.29374499e-01, -1.29232267e+00,\n",
       "       -3.67451176e-01, -3.92881021e-01,  4.81180661e-01,  5.64202735e-02,\n",
       "        1.90961483e+00, -1.86684753e+00, -5.41585961e-01,  1.34653623e-01,\n",
       "        1.18709188e-01,  9.45851872e-02, -9.31788903e-01, -1.53579849e+00,\n",
       "        1.44472946e+00, -1.83817585e-01, -2.20996070e+00, -9.32433260e-01,\n",
       "        5.11320050e-01,  4.96899051e-01, -2.28040487e+00,  8.51971267e-01,\n",
       "        1.51635846e-01, -5.51953243e-01,  5.58219973e-01, -7.43301287e-01,\n",
       "        1.81466853e+00, -1.30125529e+00, -4.93552761e-02,  6.40913033e-02,\n",
       "       -4.09611817e-01, -3.60231072e-01,  3.63624785e-01, -7.09318051e-01,\n",
       "        1.61251992e+00, -3.93105692e-01, -1.28365907e+00, -7.47210991e-01,\n",
       "       -7.48617283e-01, -1.46807234e+00,  9.10929793e-01, -2.55944332e-01,\n",
       "        3.15970253e-01,  2.14344790e+00, -1.00031380e+00, -4.02333994e-01,\n",
       "       -2.00260661e-01,  8.24228273e-01, -1.33434578e+00, -1.05569551e+00,\n",
       "        1.58883716e+00,  3.23609481e-01, -5.85296592e-01, -1.73732013e+00,\n",
       "        9.19136292e-01,  3.43953901e-01, -4.23561002e-01, -6.14405914e-01,\n",
       "        1.40648345e+00, -3.75591182e-01, -4.37703690e-01, -4.16308366e-01,\n",
       "       -1.07082231e+00, -8.26567159e-01, -3.78418429e-01,  9.47609919e-01,\n",
       "        4.99747547e-01, -4.85823150e-01,  1.57243504e+00, -7.16527798e-02,\n",
       "       -1.17700253e-01, -1.58417503e+00, -6.56798251e-01,  1.58049649e-01,\n",
       "        6.77525980e-02, -4.90369839e-01,  9.60948481e-01, -7.20644768e-01,\n",
       "       -5.15701593e-01,  1.06590254e+00,  7.34490171e-01,  3.35825986e-01,\n",
       "        6.66091542e-01,  3.16725863e-01,  2.02862291e-01,  6.61279127e-02,\n",
       "        5.35491340e-01, -4.95285153e-01, -5.33413367e-01, -2.65903926e+00,\n",
       "       -9.45660141e-04,  8.43872065e-01, -2.03923403e+00, -1.19334691e+00,\n",
       "        3.95755837e-01, -1.35236015e+00, -6.12205297e-01, -9.81478924e-01,\n",
       "       -1.03903919e+00,  4.35130577e-01,  1.13305386e+00,  2.00943110e-01,\n",
       "       -3.13750475e-01, -1.56302515e-01,  1.17589075e+00, -7.54076508e-02,\n",
       "       -2.97413583e-01, -7.67342781e-01,  7.41688824e-01, -1.39115406e+00,\n",
       "       -7.17310370e-01, -1.09348166e+00,  7.24320688e-01, -6.60866901e-02,\n",
       "        6.90191789e-02, -1.00543808e+00,  6.84305181e-01,  8.63578347e-01,\n",
       "       -5.24756948e-01,  8.70692625e-01, -5.35047271e-01, -1.20776014e-01,\n",
       "       -1.34825087e+00,  1.61634137e+00,  1.52533057e+00,  3.31205740e-01,\n",
       "        1.53564802e+00, -7.14654443e-01,  1.07234345e+00,  2.23431052e+00,\n",
       "       -2.36178900e+00,  3.28375744e-01, -1.03329808e+00, -6.75735565e-01,\n",
       "       -5.29708194e-01,  8.10848675e-01,  4.26622590e-01,  7.11993812e-01,\n",
       "       -8.16331656e-01, -1.26488965e+00, -1.30227637e+00, -1.05549685e+00,\n",
       "       -1.92386420e-01, -9.80837792e-01,  1.32388864e+00,  9.23130365e-01,\n",
       "       -6.37669859e-02,  6.86685104e-01,  6.61396979e-01, -7.03131857e-01,\n",
       "        5.46456063e-01,  1.78210629e+00, -1.42327224e+00,  1.04667049e-01,\n",
       "        7.29072556e-01, -9.51500385e-01,  1.69793715e+00, -1.18905116e-01,\n",
       "       -9.59375202e-01,  2.06356213e+00, -3.01657645e-01, -1.95369107e+00,\n",
       "        9.67280950e-01, -2.46310581e-01,  8.85260780e-01,  1.23584257e-01,\n",
       "       -9.97041059e-01,  1.51615165e-01,  1.07613558e+00,  8.78647787e-01,\n",
       "        1.07384341e+00, -2.40449983e+00, -9.53208372e-01,  6.14895514e-01,\n",
       "        8.79152899e-01,  1.23873016e+00,  4.50645855e-01,  1.02536221e+00,\n",
       "        8.89843357e-01, -7.10985719e-01,  2.07360391e+00,  4.54186597e-01,\n",
       "        1.52470466e+00,  2.87634757e+00,  8.43865589e-01,  3.09827206e-01,\n",
       "        2.12730997e+00, -1.50860184e-01, -1.07702822e+00, -1.73016025e-01,\n",
       "       -5.87750557e-02, -1.54176087e+00, -1.03346061e-01, -9.64118987e-01,\n",
       "       -4.47034826e-01,  8.41503747e-01,  3.41802962e-01, -2.29296315e+00,\n",
       "       -2.81962512e-01,  3.01728067e-01,  1.75341789e+00,  2.03053966e-01,\n",
       "       -1.68586680e-02,  3.66710244e-01, -5.79856476e-01,  2.23201174e+00,\n",
       "       -1.02806544e-01,  9.94147331e-01, -1.18122470e-01,  8.60455236e-01,\n",
       "        1.58395866e-01, -1.32594868e+00,  6.70482095e-01,  6.45238019e-01,\n",
       "        6.22389751e-02,  3.08369327e-01, -8.50840943e-01,  7.69772433e-01,\n",
       "        4.20623499e-01, -6.10306989e-01,  5.34588830e-01,  1.27854844e+00,\n",
       "       -3.12685592e-01,  9.29606849e-02, -6.84687530e-01, -7.39853274e-01,\n",
       "        2.62257296e+00,  9.85262124e-01, -7.74565359e-01,  4.95726995e-01,\n",
       "        1.52885620e-01, -2.66234090e-01, -1.54886199e+00,  1.27555181e+00,\n",
       "        1.78573055e+00, -5.25082474e-01, -7.09749769e-02,  4.33224566e-02,\n",
       "        1.20475806e+00, -6.22590745e-01,  1.92257320e-01,  5.31337370e-01,\n",
       "        3.66478062e-01, -7.83107717e-01,  3.12427731e-02, -1.79442376e+00,\n",
       "       -2.13350154e+00,  3.91005314e-01,  7.13104982e-02,  1.06731855e+00,\n",
       "       -1.41761343e+00,  3.16527509e+00,  9.57080301e-01,  1.46453843e+00,\n",
       "       -5.55445571e-01, -1.03128063e+00, -1.04925081e+00, -1.58015326e-01,\n",
       "       -8.44052445e-01,  8.37056802e-01,  2.39700906e-01,  6.69296800e-01,\n",
       "       -1.71116669e+00, -5.18438786e-01,  4.52672617e-01,  1.96182028e+00,\n",
       "       -6.04447562e-01,  9.37538405e-01, -1.22162987e-01,  4.76720947e-01,\n",
       "       -1.18505003e+00, -1.00564728e+00,  1.51391603e+00, -6.10346533e-01,\n",
       "        5.45069946e-01,  1.70494972e+00, -1.31197424e-01, -1.92958991e-01,\n",
       "        1.96813596e+00,  6.09330711e-02, -1.75552652e-02, -1.57158720e+00])"
      ]
     },
     "execution_count": 9,
     "metadata": {},
     "output_type": "execute_result"
    }
   ],
   "source": [
    "# Creating normally distributed data:\n",
    "\n",
    "from numpy.random import randn\n",
    "\n",
    "normal_dist = randn(500)\n",
    "normal_dist"
   ]
  },
  {
   "cell_type": "code",
   "execution_count": 10,
   "metadata": {},
   "outputs": [
    {
     "data": {
      "text/plain": [
       "<Axes: ylabel='Density'>"
      ]
     },
     "execution_count": 10,
     "metadata": {},
     "output_type": "execute_result"
    },
    {
     "data": {
      "image/png": "[encoded data removed]",
      "text/plain": [
       "<Figure size 640x480 with 1 Axes>"
      ]
     },
     "metadata": {},
     "output_type": "display_data"
    }
   ],
   "source": [
    "sns.distplot(normal_dist, color='blue')"
   ]
  },
  {
   "cell_type": "code",
   "execution_count": 11,
   "metadata": {},
   "outputs": [
    {
     "data": {
      "text/plain": [
       "ShapiroResult(statistic=0.9975696802139282, pvalue=0.6859031915664673)"
      ]
     },
     "execution_count": 11,
     "metadata": {},
     "output_type": "execute_result"
    }
   ],
   "source": [
    "stats.shapiro(normal_dist)"
   ]
  },
  {
   "cell_type": "code",
   "execution_count": 12,
   "metadata": {},
   "outputs": [],
   "source": [
    "# creating a function to tell if our data is normally distributed or not:\n",
    "\n",
    "# Null Hypothesis: the data was drawn from a normal distribution.\n",
    "# Alternate Hypothesis: the data was not drawn from a normal distribution.\n",
    "\n",
    "import numpy as np\n",
    "import scipy.stats as stats\n",
    "alpha = 0.05 # alpha - significance level \n",
    "\n",
    "def is_normal(data):\n",
    "    if stats.shapiro(data).pvalue > alpha:\n",
    "        print(f'We fail to reject the null hypothesis, Hence your dataset is normally distributed')\n",
    "    else:\n",
    "        print(f'We reject the null hypothesis, Hence your dataset is not normally distributed')\n"
   ]
  },
  {
   "cell_type": "code",
   "execution_count": 13,
   "metadata": {},
   "outputs": [
    {
     "name": "stdout",
     "output_type": "stream",
     "text": [
      "We fail to reject the null hypothesis, Hence your dataset is normally distributed\n"
     ]
    }
   ],
   "source": [
    "is_normal(normal_dist)"
   ]
  },
  {
   "cell_type": "code",
   "execution_count": 14,
   "metadata": {},
   "outputs": [
    {
     "name": "stdout",
     "output_type": "stream",
     "text": [
      "We reject the null hypothesis, Hence your dataset is not normally distributed\n"
     ]
    }
   ],
   "source": [
    "is_normal(df['volatile acidity'])"
   ]
  },
  {
   "cell_type": "code",
   "execution_count": 15,
   "metadata": {},
   "outputs": [
    {
     "name": "stdout",
     "output_type": "stream",
     "text": [
      "We reject the null hypothesis, Hence your dataset is not normally distributed\n"
     ]
    }
   ],
   "source": [
    "is_normal(df['citric acid'])"
   ]
  },
  {
   "attachments": {},
   "cell_type": "markdown",
   "metadata": {},
   "source": [
    "* Note: [Using Shapiro test might not be an Ideal thing to do every time!](https://towardsdatascience.com/stop-testing-for-normality-dba96bb73f90)"
   ]
  },
  {
   "attachments": {},
   "cell_type": "markdown",
   "metadata": {},
   "source": [
    "#### Confidence Interval and Margin of Error:"
   ]
  },
  {
   "cell_type": "code",
   "execution_count": 16,
   "metadata": {},
   "outputs": [],
   "source": [
    "population=np.random.randint(10,20,50)"
   ]
  },
  {
   "cell_type": "code",
   "execution_count": 17,
   "metadata": {},
   "outputs": [
    {
     "data": {
      "text/plain": [
       "array([14, 19, 13, 13, 12, 10, 14, 14, 19, 13, 18, 14, 13, 14, 10, 17, 16,\n",
       "       11, 18, 16, 17, 10, 11, 15, 17, 15, 16, 14, 10, 13, 18, 11, 11, 16,\n",
       "       14, 14, 13, 13, 16, 15, 14, 19, 18, 11, 12, 15, 12, 14, 11, 12])"
      ]
     },
     "execution_count": 17,
     "metadata": {},
     "output_type": "execute_result"
    }
   ],
   "source": [
    "population"
   ]
  },
  {
   "cell_type": "code",
   "execution_count": 18,
   "metadata": {},
   "outputs": [],
   "source": [
    "sample1=np.random.choice(population,20)\n",
    "sample2=np.random.choice(population,20)\n",
    "sample3=np.random.choice(population,20)\n",
    "sample4=np.random.choice(population,20)"
   ]
  },
  {
   "cell_type": "code",
   "execution_count": 19,
   "metadata": {},
   "outputs": [],
   "source": [
    "mean_of_samples=[]\n",
    "\n",
    "all_sample=[sample1,sample2,sample3,sample4]\n",
    "\n",
    "for sample in all_sample:\n",
    "    mean_of_samples.append(np.mean(sample))"
   ]
  },
  {
   "cell_type": "code",
   "execution_count": 20,
   "metadata": {},
   "outputs": [],
   "source": [
    "import scipy.stats as stats"
   ]
  },
  {
   "cell_type": "code",
   "execution_count": 21,
   "metadata": {},
   "outputs": [
    {
     "data": {
      "text/plain": [
       "1.959963984540054"
      ]
     },
     "execution_count": 21,
     "metadata": {},
     "output_type": "execute_result"
    }
   ],
   "source": [
    "z_critical = stats.norm.ppf(q=0.975)\n",
    "z_critical"
   ]
  },
  {
   "cell_type": "code",
   "execution_count": 23,
   "metadata": {},
   "outputs": [
    {
     "data": {
      "text/plain": [
       "2.0638985616280205"
      ]
     },
     "execution_count": 23,
     "metadata": {},
     "output_type": "execute_result"
    }
   ],
   "source": [
    "t_critical = stats.t.ppf(q=0.975,df=24)\n",
    "t_critical "
   ]
  },
  {
   "cell_type": "code",
   "execution_count": 25,
   "metadata": {},
   "outputs": [
    {
     "data": {
      "text/plain": [
       "0.12139026297445096"
      ]
     },
     "execution_count": 25,
     "metadata": {},
     "output_type": "execute_result"
    }
   ],
   "source": [
    "margin_of_error = z_critical * (np.std(mean_of_samples)/np.sqrt(20))\n",
    "margin_of_error"
   ]
  },
  {
   "cell_type": "code",
   "execution_count": 28,
   "metadata": {},
   "outputs": [
    {
     "name": "stdout",
     "output_type": "stream",
     "text": [
      "lower confidence limit:  14.166109737025547\n",
      "Upper confidence limit:  14.408890262974449\n"
     ]
    }
   ],
   "source": [
    "\n",
    "#  margin of Error:\n",
    "# Lower confidence limit:\n",
    "lcl = np.mean(mean_of_samples)- margin_of_error\n",
    "\n",
    "# Upper confidence limit:\n",
    "ucl = np.mean(mean_of_samples) + margin_of_error\n",
    "\n",
    "# Confidence Interval Range: \n",
    "print(f'lower confidence limit:  {lcl}')\n",
    "print(f'Upper confidence limit:  {ucl}')\n"
   ]
  },
  {
   "attachments": {},
   "cell_type": "markdown",
   "metadata": {},
   "source": [
    "## Z - Test : \n"
   ]
  },
  {
   "cell_type": "code",
   "execution_count": 29,
   "metadata": {},
   "outputs": [
    {
     "data": {
      "text/plain": [
       "array([-1.27645768,  2.29002596,  1.3047887 , -0.8769511 ,  0.10110606,\n",
       "       -0.36184601, -0.50059779, -1.07944315, -1.38150668, -0.97846248,\n",
       "        0.5933429 , -1.91280156, -0.47548062, -0.875072  ,  0.4444708 ,\n",
       "       -1.28863106,  0.17266168,  1.49939204, -0.37449909, -0.95357875,\n",
       "        1.00043367,  0.93799292, -0.32547492, -1.31261629, -1.25495777,\n",
       "        1.01745127,  0.3079715 , -0.09856916,  0.84789706, -1.60811056,\n",
       "       -1.11874566, -0.75017921,  0.60276208,  0.84047712, -1.70122114,\n",
       "       -0.04378134, -1.37954394, -0.32213853, -1.35627339,  1.04832214,\n",
       "       -1.14320272, -1.68762389,  0.28315987,  1.76212615, -0.39130452,\n",
       "       -0.13131773, -1.13954131,  1.29356821, -0.12722877,  0.40831299,\n",
       "       -1.92422277, -1.54043993,  0.35367221,  1.38455328, -0.03042277,\n",
       "        0.20241684,  0.85736812, -0.31217907,  1.27764374, -0.13983869,\n",
       "        0.51773959, -1.49696112, -1.2922658 , -0.05228666, -0.64131731,\n",
       "        0.10619117,  0.49250869, -0.8843364 ,  1.22649965, -0.89989551,\n",
       "        0.82000796,  1.28430604,  0.37399498,  0.20786759,  1.23070979,\n",
       "       -0.6199758 ,  0.73490701,  0.31461604, -0.5604746 ,  0.77651478,\n",
       "       -0.37978172,  0.34105631, -0.41999387, -3.00885798,  2.35184247,\n",
       "        0.79267121, -1.55590104,  0.02323633,  0.03860574, -0.16991566,\n",
       "        0.92234415,  0.98516722,  0.58760173, -0.8813996 ,  0.33362039,\n",
       "        0.98340932,  0.387159  ,  0.92791964, -0.08707211, -0.72884336])"
      ]
     },
     "execution_count": 29,
     "metadata": {},
     "output_type": "execute_result"
    }
   ],
   "source": [
    "from numpy.random import randn\n",
    "population=randn(100)\n",
    "population"
   ]
  },
  {
   "cell_type": "code",
   "execution_count": 30,
   "metadata": {},
   "outputs": [
    {
     "data": {
      "text/plain": [
       "<Axes: ylabel='Density'>"
      ]
     },
     "execution_count": 30,
     "metadata": {},
     "output_type": "execute_result"
    },
    {
     "data": {
      "image/png": "[encoded data removed]",
      "text/plain": [
       "<Figure size 640x480 with 1 Axes>"
      ]
     },
     "metadata": {},
     "output_type": "display_data"
    }
   ],
   "source": [
    "sns.distplot(population)"
   ]
  },
  {
   "cell_type": "code",
   "execution_count": 31,
   "metadata": {},
   "outputs": [
    {
     "name": "stdout",
     "output_type": "stream",
     "text": [
      "here is a mean of the population: -0.08261126496485166,here is a std dev 1.0129859480594994\n"
     ]
    }
   ],
   "source": [
    "print(f\"here is a mean of the population: {np.mean(population)},here is a std dev {np.std(population)}\")"
   ]
  },
  {
   "cell_type": "code",
   "execution_count": null,
   "metadata": {},
   "outputs": [],
   "source": []
  },
  {
   "cell_type": "code",
   "execution_count": null,
   "metadata": {},
   "outputs": [],
   "source": []
  },
  {
   "attachments": {},
   "cell_type": "markdown",
   "metadata": {},
   "source": [
    "# T - Test : "
   ]
  },
  {
   "cell_type": "code",
   "execution_count": null,
   "metadata": {},
   "outputs": [],
   "source": []
  },
  {
   "attachments": {},
   "cell_type": "markdown",
   "metadata": {},
   "source": [
    "## Chi - Square Test : "
   ]
  },
  {
   "cell_type": "markdown",
   "metadata": {},
   "source": []
  }
 ],
 "metadata": {
  "kernelspec": {
   "display_name": "Python 3",
   "language": "python",
   "name": "python3"
  },
  "language_info": {
   "codemirror_mode": {
    "name": "ipython",
    "version": 3
   },
   "file_extension": ".py",
   "mimetype": "text/x-python",
   "name": "python",
   "nbconvert_exporter": "python",
   "pygments_lexer": "ipython3",
   "version": "3.10.6"
  },
  "orig_nbformat": 4
 },
 "nbformat": 4,
 "nbformat_minor": 2
}
