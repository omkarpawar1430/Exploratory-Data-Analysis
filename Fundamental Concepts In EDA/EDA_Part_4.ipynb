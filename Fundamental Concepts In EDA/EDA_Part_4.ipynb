{
 "cells": [
  {
   "attachments": {},
   "cell_type": "markdown",
   "metadata": {},
   "source": [
    "# Statistical Analysis | EDA -  Dataset"
   ]
  },
  {
   "cell_type": "code",
   "execution_count": 1,
   "metadata": {},
   "outputs": [],
   "source": [
    "# Libraries Needed:\n",
    "import pandas as pd\n",
    "import seaborn as sns\n",
    "from scipy import stats\n",
    "\n",
    "\n",
    "# Extra Lib to ingnore some warnings: \n",
    "import warnings\n",
    "warnings.filterwarnings('ignore')"
   ]
  },
  {
   "cell_type": "code",
   "execution_count": 2,
   "metadata": {},
   "outputs": [
    {
     "data": {
      "text/html": [
       "<div>\n",
       "<style scoped>\n",
       "    .dataframe tbody tr th:only-of-type {\n",
       "        vertical-align: middle;\n",
       "    }\n",
       "\n",
       "    .dataframe tbody tr th {\n",
       "        vertical-align: top;\n",
       "    }\n",
       "\n",
       "    .dataframe thead th {\n",
       "        text-align: right;\n",
       "    }\n",
       "</style>\n",
       "<table border=\"1\" class=\"dataframe\">\n",
       "  <thead>\n",
       "    <tr style=\"text-align: right;\">\n",
       "      <th></th>\n",
       "      <th>fixed acidity</th>\n",
       "      <th>volatile acidity</th>\n",
       "      <th>citric acid</th>\n",
       "      <th>residual sugar</th>\n",
       "      <th>chlorides</th>\n",
       "      <th>free sulfur dioxide</th>\n",
       "      <th>total sulfur dioxide</th>\n",
       "      <th>density</th>\n",
       "      <th>pH</th>\n",
       "      <th>sulphates</th>\n",
       "      <th>alcohol</th>\n",
       "      <th>quality</th>\n",
       "    </tr>\n",
       "  </thead>\n",
       "  <tbody>\n",
       "    <tr>\n",
       "      <th>0</th>\n",
       "      <td>7.4</td>\n",
       "      <td>0.700</td>\n",
       "      <td>0.00</td>\n",
       "      <td>1.9</td>\n",
       "      <td>0.076</td>\n",
       "      <td>11.0</td>\n",
       "      <td>34.0</td>\n",
       "      <td>0.99780</td>\n",
       "      <td>3.51</td>\n",
       "      <td>0.56</td>\n",
       "      <td>9.4</td>\n",
       "      <td>5</td>\n",
       "    </tr>\n",
       "    <tr>\n",
       "      <th>1</th>\n",
       "      <td>7.8</td>\n",
       "      <td>0.880</td>\n",
       "      <td>0.00</td>\n",
       "      <td>2.6</td>\n",
       "      <td>0.098</td>\n",
       "      <td>25.0</td>\n",
       "      <td>67.0</td>\n",
       "      <td>0.99680</td>\n",
       "      <td>3.20</td>\n",
       "      <td>0.68</td>\n",
       "      <td>9.8</td>\n",
       "      <td>5</td>\n",
       "    </tr>\n",
       "    <tr>\n",
       "      <th>2</th>\n",
       "      <td>7.8</td>\n",
       "      <td>0.760</td>\n",
       "      <td>0.04</td>\n",
       "      <td>2.3</td>\n",
       "      <td>0.092</td>\n",
       "      <td>15.0</td>\n",
       "      <td>54.0</td>\n",
       "      <td>0.99700</td>\n",
       "      <td>3.26</td>\n",
       "      <td>0.65</td>\n",
       "      <td>9.8</td>\n",
       "      <td>5</td>\n",
       "    </tr>\n",
       "    <tr>\n",
       "      <th>3</th>\n",
       "      <td>11.2</td>\n",
       "      <td>0.280</td>\n",
       "      <td>0.56</td>\n",
       "      <td>1.9</td>\n",
       "      <td>0.075</td>\n",
       "      <td>17.0</td>\n",
       "      <td>60.0</td>\n",
       "      <td>0.99800</td>\n",
       "      <td>3.16</td>\n",
       "      <td>0.58</td>\n",
       "      <td>9.8</td>\n",
       "      <td>6</td>\n",
       "    </tr>\n",
       "    <tr>\n",
       "      <th>4</th>\n",
       "      <td>7.4</td>\n",
       "      <td>0.700</td>\n",
       "      <td>0.00</td>\n",
       "      <td>1.9</td>\n",
       "      <td>0.076</td>\n",
       "      <td>11.0</td>\n",
       "      <td>34.0</td>\n",
       "      <td>0.99780</td>\n",
       "      <td>3.51</td>\n",
       "      <td>0.56</td>\n",
       "      <td>9.4</td>\n",
       "      <td>5</td>\n",
       "    </tr>\n",
       "    <tr>\n",
       "      <th>...</th>\n",
       "      <td>...</td>\n",
       "      <td>...</td>\n",
       "      <td>...</td>\n",
       "      <td>...</td>\n",
       "      <td>...</td>\n",
       "      <td>...</td>\n",
       "      <td>...</td>\n",
       "      <td>...</td>\n",
       "      <td>...</td>\n",
       "      <td>...</td>\n",
       "      <td>...</td>\n",
       "      <td>...</td>\n",
       "    </tr>\n",
       "    <tr>\n",
       "      <th>1594</th>\n",
       "      <td>6.2</td>\n",
       "      <td>0.600</td>\n",
       "      <td>0.08</td>\n",
       "      <td>2.0</td>\n",
       "      <td>0.090</td>\n",
       "      <td>32.0</td>\n",
       "      <td>44.0</td>\n",
       "      <td>0.99490</td>\n",
       "      <td>3.45</td>\n",
       "      <td>0.58</td>\n",
       "      <td>10.5</td>\n",
       "      <td>5</td>\n",
       "    </tr>\n",
       "    <tr>\n",
       "      <th>1595</th>\n",
       "      <td>5.9</td>\n",
       "      <td>0.550</td>\n",
       "      <td>0.10</td>\n",
       "      <td>2.2</td>\n",
       "      <td>0.062</td>\n",
       "      <td>39.0</td>\n",
       "      <td>51.0</td>\n",
       "      <td>0.99512</td>\n",
       "      <td>3.52</td>\n",
       "      <td>0.76</td>\n",
       "      <td>11.2</td>\n",
       "      <td>6</td>\n",
       "    </tr>\n",
       "    <tr>\n",
       "      <th>1596</th>\n",
       "      <td>6.3</td>\n",
       "      <td>0.510</td>\n",
       "      <td>0.13</td>\n",
       "      <td>2.3</td>\n",
       "      <td>0.076</td>\n",
       "      <td>29.0</td>\n",
       "      <td>40.0</td>\n",
       "      <td>0.99574</td>\n",
       "      <td>3.42</td>\n",
       "      <td>0.75</td>\n",
       "      <td>11.0</td>\n",
       "      <td>6</td>\n",
       "    </tr>\n",
       "    <tr>\n",
       "      <th>1597</th>\n",
       "      <td>5.9</td>\n",
       "      <td>0.645</td>\n",
       "      <td>0.12</td>\n",
       "      <td>2.0</td>\n",
       "      <td>0.075</td>\n",
       "      <td>32.0</td>\n",
       "      <td>44.0</td>\n",
       "      <td>0.99547</td>\n",
       "      <td>3.57</td>\n",
       "      <td>0.71</td>\n",
       "      <td>10.2</td>\n",
       "      <td>5</td>\n",
       "    </tr>\n",
       "    <tr>\n",
       "      <th>1598</th>\n",
       "      <td>6.0</td>\n",
       "      <td>0.310</td>\n",
       "      <td>0.47</td>\n",
       "      <td>3.6</td>\n",
       "      <td>0.067</td>\n",
       "      <td>18.0</td>\n",
       "      <td>42.0</td>\n",
       "      <td>0.99549</td>\n",
       "      <td>3.39</td>\n",
       "      <td>0.66</td>\n",
       "      <td>11.0</td>\n",
       "      <td>6</td>\n",
       "    </tr>\n",
       "  </tbody>\n",
       "</table>\n",
       "<p>1599 rows × 12 columns</p>\n",
       "</div>"
      ],
      "text/plain": [
       "      fixed acidity  volatile acidity  citric acid  residual sugar  chlorides   \n",
       "0               7.4             0.700         0.00             1.9      0.076  \\\n",
       "1               7.8             0.880         0.00             2.6      0.098   \n",
       "2               7.8             0.760         0.04             2.3      0.092   \n",
       "3              11.2             0.280         0.56             1.9      0.075   \n",
       "4               7.4             0.700         0.00             1.9      0.076   \n",
       "...             ...               ...          ...             ...        ...   \n",
       "1594            6.2             0.600         0.08             2.0      0.090   \n",
       "1595            5.9             0.550         0.10             2.2      0.062   \n",
       "1596            6.3             0.510         0.13             2.3      0.076   \n",
       "1597            5.9             0.645         0.12             2.0      0.075   \n",
       "1598            6.0             0.310         0.47             3.6      0.067   \n",
       "\n",
       "      free sulfur dioxide  total sulfur dioxide  density    pH  sulphates   \n",
       "0                    11.0                  34.0  0.99780  3.51       0.56  \\\n",
       "1                    25.0                  67.0  0.99680  3.20       0.68   \n",
       "2                    15.0                  54.0  0.99700  3.26       0.65   \n",
       "3                    17.0                  60.0  0.99800  3.16       0.58   \n",
       "4                    11.0                  34.0  0.99780  3.51       0.56   \n",
       "...                   ...                   ...      ...   ...        ...   \n",
       "1594                 32.0                  44.0  0.99490  3.45       0.58   \n",
       "1595                 39.0                  51.0  0.99512  3.52       0.76   \n",
       "1596                 29.0                  40.0  0.99574  3.42       0.75   \n",
       "1597                 32.0                  44.0  0.99547  3.57       0.71   \n",
       "1598                 18.0                  42.0  0.99549  3.39       0.66   \n",
       "\n",
       "      alcohol  quality  \n",
       "0         9.4        5  \n",
       "1         9.8        5  \n",
       "2         9.8        5  \n",
       "3         9.8        6  \n",
       "4         9.4        5  \n",
       "...       ...      ...  \n",
       "1594     10.5        5  \n",
       "1595     11.2        6  \n",
       "1596     11.0        6  \n",
       "1597     10.2        5  \n",
       "1598     11.0        6  \n",
       "\n",
       "[1599 rows x 12 columns]"
      ]
     },
     "execution_count": 2,
     "metadata": {},
     "output_type": "execute_result"
    }
   ],
   "source": [
    "path = '/home/omkar/Omkar Pawar/Data Science/Exploratory Data Analysis/Assets/Raw Data Sets/winequality-red.csv'\n",
    "\n",
    "df = pd.read_csv(path, sep=';') # by default values sep= ',' | CSV = comma separated values\n",
    "df"
   ]
  },
  {
   "cell_type": "code",
   "execution_count": 3,
   "metadata": {},
   "outputs": [
    {
     "data": {
      "text/plain": [
       "0       0.700\n",
       "1       0.880\n",
       "2       0.760\n",
       "3       0.280\n",
       "4       0.700\n",
       "        ...  \n",
       "1594    0.600\n",
       "1595    0.550\n",
       "1596    0.510\n",
       "1597    0.645\n",
       "1598    0.310\n",
       "Name: volatile acidity, Length: 1599, dtype: float64"
      ]
     },
     "execution_count": 3,
     "metadata": {},
     "output_type": "execute_result"
    }
   ],
   "source": [
    "df['volatile acidity']"
   ]
  },
  {
   "cell_type": "code",
   "execution_count": 4,
   "metadata": {},
   "outputs": [
    {
     "data": {
      "text/plain": [
       "<Axes: xlabel='volatile acidity', ylabel='Density'>"
      ]
     },
     "execution_count": 4,
     "metadata": {},
     "output_type": "execute_result"
    },
    {
     "data": {
      "image/png": "[encoded data removed]",
      "text/plain": [
       "<Figure size 640x480 with 1 Axes>"
      ]
     },
     "metadata": {},
     "output_type": "display_data"
    }
   ],
   "source": [
    "sns.distplot(df['volatile acidity'], kde=True, color= 'green')"
   ]
  },
  {
   "cell_type": "code",
   "execution_count": 5,
   "metadata": {},
   "outputs": [
    {
     "data": {
      "text/plain": [
       "<Axes: xlabel='citric acid', ylabel='Density'>"
      ]
     },
     "execution_count": 5,
     "metadata": {},
     "output_type": "execute_result"
    },
    {
     "data": {
      "image/png": "[encoded data removed]",
      "text/plain": [
       "<Figure size 640x480 with 1 Axes>"
      ]
     },
     "metadata": {},
     "output_type": "display_data"
    }
   ],
   "source": [
    "sns.distplot(df['citric acid'], color='red')"
   ]
  },
  {
   "attachments": {},
   "cell_type": "markdown",
   "metadata": {},
   "source": [
    "### Shapiro Wilk Test:"
   ]
  },
  {
   "attachments": {},
   "cell_type": "markdown",
   "metadata": {},
   "source": [
    "https://docs.scipy.org/doc/scipy/reference/generated/scipy.stats.shapiro.html"
   ]
  },
  {
   "attachments": {},
   "cell_type": "markdown",
   "metadata": {},
   "source": [
    "The Shapiro-Wilk test tests the null hypothesis that the data was drawn from a normal distribution.\n",
    "\n",
    "The chance of rejecting the null hypothesis when it is true is close to 5% regardless of sample size."
   ]
  },
  {
   "attachments": {},
   "cell_type": "markdown",
   "metadata": {},
   "source": [
    "in short if `pvalue > 0.05` then we fail to reject null hypothesis.\n",
    "\n",
    "means we accept the null hypothesis.\n",
    "\n",
    "Hence Distribution is normal with `pvalue > 0.05`"
   ]
  },
  {
   "cell_type": "code",
   "execution_count": 6,
   "metadata": {},
   "outputs": [
    {
     "data": {
      "text/plain": [
       "ShapiroResult(statistic=0.9743338823318481, pvalue=2.686385373947307e-16)"
      ]
     },
     "execution_count": 6,
     "metadata": {},
     "output_type": "execute_result"
    }
   ],
   "source": [
    "stats.shapiro(df['volatile acidity']) # Normal Distribution"
   ]
  },
  {
   "cell_type": "code",
   "execution_count": 7,
   "metadata": {},
   "outputs": [
    {
     "data": {
      "text/plain": [
       "ShapiroResult(statistic=0.955294668674469, pvalue=1.0233944777578548e-21)"
      ]
     },
     "execution_count": 7,
     "metadata": {},
     "output_type": "execute_result"
    }
   ],
   "source": [
    "stats.shapiro(df['citric acid'])"
   ]
  },
  {
   "cell_type": "code",
   "execution_count": 8,
   "metadata": {},
   "outputs": [
    {
     "data": {
      "text/plain": [
       "array([-5.27841903e-01, -1.08422370e+00, -7.45767675e-01, -9.73723446e-01,\n",
       "        2.65914244e-01, -1.17972979e+00,  2.49668196e-01, -5.75461683e-01,\n",
       "        4.50739613e-01,  5.62725371e-02,  8.23460616e-01,  1.65117133e-01,\n",
       "       -2.01016129e+00, -4.59019324e-01, -6.98821608e-01, -6.24161431e-01,\n",
       "       -7.11492049e-01,  1.20440926e-01,  6.49216620e-01,  7.03088548e-01,\n",
       "       -7.66149945e-01,  1.25359514e+00, -1.15616308e+00,  7.85865602e-02,\n",
       "       -1.40783584e+00,  4.37629931e-01, -1.07915309e+00, -8.44546289e-01,\n",
       "        1.91851366e-01, -9.00228266e-01, -1.15607533e+00, -1.07385381e+00,\n",
       "        1.25709132e-02, -1.18418190e+00,  1.29526081e+00,  1.37821526e+00,\n",
       "       -1.32280763e+00,  2.06447915e+00, -4.04754075e-01,  1.23020823e+00,\n",
       "       -1.33610674e+00, -1.56416849e+00,  1.40023760e+00,  1.28161903e+00,\n",
       "        5.72054835e-01, -5.82060017e-01, -2.38038541e-01,  1.54296576e+00,\n",
       "       -1.20784221e+00, -2.99853257e-01, -8.36745957e-02,  6.13713658e-01,\n",
       "        1.04974157e-01, -3.99485044e-01,  1.07234808e-01, -8.13473415e-01,\n",
       "        8.29602294e-01, -2.81237672e-01,  4.83337724e-01,  1.58744662e+00,\n",
       "       -5.25745403e-01,  1.22317711e-01,  6.67050314e-01, -1.54698544e-01,\n",
       "       -7.98692120e-01, -8.65606841e-01, -1.80777417e+00, -1.94801144e+00,\n",
       "       -5.71822929e-01,  1.04085833e+00,  8.05108039e-01,  5.24609289e-01,\n",
       "        1.38624637e+00,  7.02497398e-01, -9.03948955e-01, -5.15718684e-01,\n",
       "        1.31151870e-01, -2.30384330e+00, -1.96912720e+00,  2.69769703e-02,\n",
       "       -8.19624552e-01,  1.56849306e-01, -1.31852650e+00,  1.45587508e+00,\n",
       "        5.02904165e-01,  1.81132379e-01, -1.06538083e+00,  1.55642781e+00,\n",
       "       -1.43630526e+00, -5.63456879e-01, -8.03663118e-02,  1.62454236e+00,\n",
       "        5.41812056e-01,  7.31414505e-01,  1.89660442e+00,  3.21945669e+00,\n",
       "       -1.08222361e+00, -7.25928369e-01, -8.36702039e-01, -1.23647480e+00,\n",
       "        6.71338575e-01,  1.42029640e+00,  8.78683261e-01,  2.66880677e-01,\n",
       "        4.66119399e-01,  9.34784810e-02,  8.00684299e-01, -7.50359655e-01,\n",
       "       -6.61848586e-01,  2.22161847e-01, -1.83783216e-01, -1.07193681e-01,\n",
       "        1.44748821e+00, -6.35862824e-02, -1.49808487e-01,  9.55874656e-01,\n",
       "       -1.21014963e+00, -1.61750144e-01, -1.16463259e-02,  7.74694007e-01,\n",
       "       -1.22462514e+00,  6.28246104e-01, -6.11433250e-01,  7.69297606e-01,\n",
       "        1.00179137e+00, -3.60526627e-01, -1.21432187e+00, -4.44581269e-01,\n",
       "       -6.88951358e-01, -1.19567906e+00,  1.40141072e-01,  1.03526808e+00,\n",
       "        1.75200796e+00,  4.50626676e-01, -5.94337700e-02,  4.33216568e-02,\n",
       "       -8.94726810e-01, -1.20747439e+00, -1.40879918e+00,  3.80884746e-01,\n",
       "       -1.28071983e+00,  3.75352819e-01, -9.96961204e-01,  4.84570704e-01,\n",
       "       -5.61438622e-01,  8.67069729e-01, -2.31670208e-01, -4.14669685e-01,\n",
       "        3.61082235e-01, -4.53130056e-01, -2.56215484e+00, -1.31949482e+00,\n",
       "        8.24777433e-01,  1.38650245e+00, -4.59543512e-01, -1.57098762e+00,\n",
       "        1.15232922e+00,  9.44639426e-02, -2.80378383e+00, -2.20297211e-02,\n",
       "        7.20350669e-01, -8.78654426e-02,  3.78652070e-01, -1.77393570e+00,\n",
       "       -7.22722363e-02,  6.10538317e-02,  6.32784582e-01, -1.35083916e+00,\n",
       "       -4.36660096e-01, -1.62288663e+00,  8.88784095e-01, -1.38656954e+00,\n",
       "       -2.92805353e-02,  2.63206116e-01, -3.04428013e-01,  3.47375974e-01,\n",
       "       -1.87679528e+00, -5.48441488e-01, -7.44566635e-01, -1.34498600e-01,\n",
       "       -8.66397851e-01, -1.14994629e+00,  1.85590458e-01,  8.76395285e-01,\n",
       "       -5.95465228e-01, -6.32948100e-01, -8.55466344e-02,  1.87742976e-01,\n",
       "       -6.85908348e-01,  1.34945082e+00,  2.54079497e-01, -2.50717381e-01,\n",
       "        1.90477981e-01, -2.27298941e+00,  2.33724954e+00, -3.88647588e-01,\n",
       "       -7.77952575e-02, -1.58730705e+00,  1.43052267e+00,  2.81561730e-01,\n",
       "        7.84498804e-02, -5.99835806e-01,  1.96116121e+00,  3.69686877e-01,\n",
       "        1.48232686e-01,  1.48955642e+00,  7.74824543e-01, -1.06000668e+00,\n",
       "       -9.88019974e-02, -1.74535906e-01, -2.19382261e-01,  7.32227632e-02,\n",
       "        1.55079476e+00, -1.36419632e+00, -1.15493159e+00,  3.59400448e-01,\n",
       "       -1.44499514e+00,  1.36636160e+00, -2.88408720e-01,  1.05618824e+00,\n",
       "       -9.51588172e-01,  5.31460047e-01,  6.12457721e-01, -8.51943483e-01,\n",
       "       -3.65539080e-01, -2.83832587e-01, -2.66436378e+00, -1.51431521e-01,\n",
       "       -2.67811484e-01,  1.38188983e+00, -1.07871603e+00,  4.15185176e-01,\n",
       "        6.03362022e-01, -1.47520307e+00, -1.62560490e+00, -1.13494356e+00,\n",
       "        2.25381586e+00,  1.92356271e+00, -1.15406077e+00,  1.75183453e-01,\n",
       "        8.65104726e-02,  7.46424983e-02,  5.01021555e-01, -2.02865540e+00,\n",
       "       -3.77435900e-01, -8.96183959e-01,  5.91219793e-01,  6.84327422e-01,\n",
       "        7.47199109e-01, -1.35324699e+00,  1.06681963e+00,  1.00105605e-01,\n",
       "        3.76837522e-01, -2.26548454e-02,  3.68584142e-01, -4.35914814e-02,\n",
       "        1.11386768e+00,  2.28017699e-01, -1.01965937e+00,  1.60211789e+00,\n",
       "        1.16347284e+00,  1.04460588e+00, -1.09951702e+00,  6.46286428e-01,\n",
       "       -4.32479345e-01, -7.50695287e-01, -6.24801001e-01,  1.47906301e-01,\n",
       "       -3.26946503e-01, -5.78783158e-01, -1.04507952e+00, -1.59425582e+00,\n",
       "        1.60325681e-01, -3.32190324e-02,  2.30783095e-01, -1.30349184e+00,\n",
       "       -1.62555598e-03, -1.92793324e+00, -7.69343966e-01,  9.00417647e-01,\n",
       "        2.99076431e-01,  6.53427018e-01, -1.04133362e+00,  9.11853329e-01,\n",
       "       -9.35533302e-01, -8.23305630e-01, -1.18395485e+00,  1.09341720e+00,\n",
       "       -8.15465500e-01,  6.54704766e-01, -3.63716931e-01,  1.04091651e+00,\n",
       "       -1.56313802e+00, -7.62454932e-01,  2.37138236e-01,  2.38602858e-02,\n",
       "        1.10919664e-01,  4.55886095e-01, -3.06161726e-01, -2.06331939e-01,\n",
       "       -4.58589779e-01,  3.63558871e-01,  2.11252843e+00, -5.81201576e-01,\n",
       "       -3.88560447e-01, -3.43855633e-01,  4.54986742e-01, -8.06441257e-01,\n",
       "        5.91380482e-01, -2.58454903e-03,  4.31113378e-01,  1.34505230e+00,\n",
       "        8.19411906e-01,  1.00056802e+00,  9.82392618e-01,  4.17146758e-01,\n",
       "       -2.89664435e-01,  2.72055397e+00,  1.16100193e+00,  3.80459856e-02,\n",
       "       -3.32748593e-02,  3.84861115e-01, -6.58408993e-02,  3.09999584e-01,\n",
       "        8.24185160e-02,  4.96825976e-01, -6.50336354e-01,  2.39612732e-01,\n",
       "        6.57427720e-02,  3.81592320e-02,  1.34590183e+00, -4.72408068e-01,\n",
       "       -1.52069219e-01, -1.23967292e+00, -1.19343392e+00, -5.50141079e-01,\n",
       "        7.90670891e-01, -7.17254368e-01, -7.46740926e-01, -7.01476348e-01,\n",
       "       -1.67686738e+00, -1.39665016e-01, -3.22003270e-01, -2.13784087e+00,\n",
       "       -9.79381858e-01, -1.86098932e-01,  7.43909090e-01,  6.55308368e-01,\n",
       "        1.08453284e-02,  7.20509757e-01,  1.55279005e+00,  7.69422977e-01,\n",
       "        5.96762565e-01, -1.35347352e+00, -3.85362734e-02,  9.52623777e-01,\n",
       "        7.30042666e-01, -4.54614068e-01, -1.47328370e-01,  1.57380608e+00,\n",
       "        1.15773056e-01,  1.46120462e+00,  4.82607477e-01, -1.61746557e-02,\n",
       "       -1.08510827e+00, -1.05979706e+00,  7.83952841e-01, -1.26578935e+00,\n",
       "       -1.09841300e+00,  1.54675722e-01,  1.40723529e-02, -1.06800406e-01,\n",
       "        1.82710968e+00,  1.25880384e+00,  5.12510538e-01, -3.73403539e-01,\n",
       "        1.39817735e+00,  1.41207572e+00,  6.12054531e-01, -1.47119225e+00,\n",
       "        1.84292156e-01,  4.33925154e-01, -5.33612533e-01,  6.59842076e-01,\n",
       "        6.94877562e-01,  1.75563569e+00, -3.12694410e-01, -1.34974750e+00,\n",
       "        1.09959244e+00,  5.36956167e-01, -6.89738424e-01,  6.30100710e-01,\n",
       "       -4.73203279e-01,  7.31966243e-01,  7.71553339e-02,  7.54196029e-01,\n",
       "       -1.23744511e+00, -3.04737638e-01, -9.07667656e-01,  9.77875006e-01,\n",
       "       -9.59164101e-01, -3.55712886e-01,  3.91937140e-01, -1.46083603e+00,\n",
       "        7.13019423e-02,  4.10089919e-01, -8.43918928e-02,  1.30803971e+00,\n",
       "       -1.88257162e-01,  1.82259918e-01, -9.88477330e-01, -2.78159792e-01,\n",
       "       -6.91684800e-01,  1.29198466e+00, -5.01717420e-01, -1.35345471e+00,\n",
       "       -1.37121150e+00, -1.42922985e+00,  1.37967681e+00,  7.40615632e-01,\n",
       "        4.73712784e-01,  1.05773768e+00, -9.57745519e-01,  4.72012981e-01,\n",
       "        1.75673086e-01,  1.62507954e+00,  8.62023177e-01, -4.55198935e-01,\n",
       "        1.25153276e+00, -4.08081129e-02, -1.01284989e+00, -2.30546175e-01,\n",
       "        9.95399346e-01, -8.42045815e-01, -8.45760827e-01,  1.93492817e+00,\n",
       "        1.66303468e+00, -7.32080977e-01, -3.03551478e-01, -4.21158500e-02,\n",
       "        1.65662125e+00, -4.53144664e-01, -1.81533667e-01, -7.33540376e-01,\n",
       "        3.53613403e-01, -6.33256769e-01, -1.19570450e+00, -2.10951638e-01,\n",
       "       -2.22296676e-01,  2.81333021e+00, -1.52328295e+00, -1.24584773e-01,\n",
       "        5.92799282e-01, -6.28400111e-02, -7.13619380e-01,  4.88315487e-01,\n",
       "        1.71675252e+00,  1.97290100e+00,  1.51556979e+00, -6.42947370e-02,\n",
       "        6.15780311e-01,  3.35983353e-01,  6.71927080e-01, -1.67713589e-01,\n",
       "        4.57736178e-01, -9.08582747e-01,  2.30320551e-01,  1.03842310e+00,\n",
       "        3.32425713e-01,  1.06609379e+00, -4.74198309e-01,  3.30397763e-01,\n",
       "       -2.08571830e-01, -2.96379258e-01, -7.12521559e-01, -5.20400387e-02,\n",
       "        2.32257850e-01,  1.17089767e+00,  3.88259471e-01,  2.87244035e-02,\n",
       "       -1.62024467e-01, -1.28753886e+00,  1.67146684e+00, -7.93899039e-01,\n",
       "       -7.51962775e-01,  2.21931317e+00, -3.59296116e-01, -7.15759206e-01,\n",
       "        1.93105115e-01,  7.00475374e-01,  6.08614520e-02, -4.10446651e-01,\n",
       "       -9.48818237e-01, -1.13485634e+00, -6.98839610e-01,  8.95590678e-01,\n",
       "        3.11859006e-01, -1.43851352e+00,  1.08818596e+00,  1.29845389e+00])"
      ]
     },
     "execution_count": 8,
     "metadata": {},
     "output_type": "execute_result"
    }
   ],
   "source": [
    "# Creating normally distributed data:\n",
    "\n",
    "from numpy.random import randn\n",
    "\n",
    "normal_dist = randn(500)\n",
    "normal_dist"
   ]
  },
  {
   "cell_type": "code",
   "execution_count": 9,
   "metadata": {},
   "outputs": [
    {
     "data": {
      "text/plain": [
       "<Axes: ylabel='Density'>"
      ]
     },
     "execution_count": 9,
     "metadata": {},
     "output_type": "execute_result"
    },
    {
     "data": {
      "image/png": "[encoded data removed]",
      "text/plain": [
       "<Figure size 640x480 with 1 Axes>"
      ]
     },
     "metadata": {},
     "output_type": "display_data"
    }
   ],
   "source": [
    "sns.distplot(normal_dist, color='blue')"
   ]
  },
  {
   "cell_type": "code",
   "execution_count": 10,
   "metadata": {},
   "outputs": [
    {
     "data": {
      "text/plain": [
       "ShapiroResult(statistic=0.9973682165145874, pvalue=0.6151639819145203)"
      ]
     },
     "execution_count": 10,
     "metadata": {},
     "output_type": "execute_result"
    }
   ],
   "source": [
    "stats.shapiro(normal_dist)"
   ]
  },
  {
   "cell_type": "code",
   "execution_count": 11,
   "metadata": {},
   "outputs": [],
   "source": [
    "# creating a function to tell if our data is normally distributed or not:\n",
    "\n",
    "# Null Hypothesis: the data was drawn from a normal distribution.\n",
    "# Alternate Hypothesis: the data was not drawn from a normal distribution.\n",
    "\n",
    "import numpy as np\n",
    "import scipy.stats as stats\n",
    "alpha = 0.05 # alpha - significance level \n",
    "\n",
    "def is_normal(data):\n",
    "    if stats.shapiro(data).pvalue > alpha:\n",
    "        print(f'We fail to reject the null hypothesis, Hence your dataset is normally distributed')\n",
    "    else:\n",
    "        print(f'We reject the null hypothesis, Hence your dataset is not normally distributed')\n"
   ]
  },
  {
   "cell_type": "code",
   "execution_count": 12,
   "metadata": {},
   "outputs": [
    {
     "name": "stdout",
     "output_type": "stream",
     "text": [
      "We fail to reject the null hypothesis, Hence your dataset is normally distributed\n"
     ]
    }
   ],
   "source": [
    "is_normal(normal_dist)"
   ]
  },
  {
   "cell_type": "code",
   "execution_count": 13,
   "metadata": {},
   "outputs": [
    {
     "name": "stdout",
     "output_type": "stream",
     "text": [
      "We reject the null hypothesis, Hence your dataset is not normally distributed\n"
     ]
    }
   ],
   "source": [
    "is_normal(df['volatile acidity'])"
   ]
  },
  {
   "cell_type": "code",
   "execution_count": 14,
   "metadata": {},
   "outputs": [
    {
     "name": "stdout",
     "output_type": "stream",
     "text": [
      "We reject the null hypothesis, Hence your dataset is not normally distributed\n"
     ]
    }
   ],
   "source": [
    "is_normal(df['citric acid'])"
   ]
  },
  {
   "attachments": {},
   "cell_type": "markdown",
   "metadata": {},
   "source": [
    "* Note: [Using Shapiro test might not be an Ideal thing to do every time!](https://towardsdatascience.com/stop-testing-for-normality-dba96bb73f90)"
   ]
  },
  {
   "cell_type": "markdown",
   "metadata": {},
   "source": []
  }
 ],
 "metadata": {
  "kernelspec": {
   "display_name": "Python 3",
   "language": "python",
   "name": "python3"
  },
  "language_info": {
   "codemirror_mode": {
    "name": "ipython",
    "version": 3
   },
   "file_extension": ".py",
   "mimetype": "text/x-python",
   "name": "python",
   "nbconvert_exporter": "python",
   "pygments_lexer": "ipython3",
   "version": "3.10.6"
  },
  "orig_nbformat": 4
 },
 "nbformat": 4,
 "nbformat_minor": 2
}
